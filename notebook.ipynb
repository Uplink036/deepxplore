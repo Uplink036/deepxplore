{
 "cells": [
  {
   "cell_type": "code",
   "execution_count": null,
   "metadata": {},
   "outputs": [],
   "source": [
    "import seaborn as sns\n",
    "import pandas as pd \n",
    "import numpy as np\n",
    "import matplotlib.pyplot as plt\n",
    "from scipy.interpolate import CubicSpline, interpolate"
   ]
  },
  {
   "cell_type": "code",
   "execution_count": null,
   "metadata": {},
   "outputs": [],
   "source": [
    "std_df = pd.read_csv(\"std.csv\")\n",
    "std_df[\"dCont_dTime\"] = np.gradient(std_df['Contradictions'], std_df['Time'])\n",
    "std_df\n"
   ]
  },
  {
   "cell_type": "code",
   "execution_count": null,
   "metadata": {},
   "outputs": [],
   "source": [
    "\n",
    "fig, axes = plt.subplots(1, 2, figsize=(12, 6))\n",
    "sns.lineplot(std_df, x=\"Time\", y=\"Contradictions\", ax=axes[0])\n",
    "sns.lineplot(std_df, x=\"Time\", y=\"dCont_dTime\", ax=axes[1])"
   ]
  },
  {
   "cell_type": "code",
   "execution_count": null,
   "metadata": {},
   "outputs": [],
   "source": [
    "\n",
    "fig, axes = plt.subplots(1, 2, figsize=(12, 6))\n",
    "std_df[\"cont_per_size\"] = std_df['Contradictions'] / std_df['Size']\n",
    "sns.lineplot(std_df, x=\"Size\", y=\"Contradictions\", ax=axes[0])\n",
    "sns.lineplot(std_df, x=\"Size\", y=\"cont_per_size\", ax=axes[1])"
   ]
  },
  {
   "cell_type": "code",
   "execution_count": null,
   "metadata": {},
   "outputs": [],
   "source": [
    "\n",
    "fig, axes = plt.subplots(1, 2, figsize=(12, 6))\n",
    "interp_df = pd.DataFrame()\n",
    "interp_df[\"Time\"] = range(0, max(std_df[\"Time\"]), 10)\n",
    "interp_df[\"Size\"] = CubicSpline(std_df[\"Time\"], std_df[\"Size\"])(interp_df[\"Time\"])\n",
    "interp_df[\"Contradictions\"] = CubicSpline(std_df[\"Time\"], std_df[\"Contradictions\"])(interp_df[\"Time\"])\n",
    "sns.lineplot(std_df, x=\"Time\", y=\"Contradictions\", ax=axes[0])\n",
    "sns.lineplot(interp_df, x=\"Time\", y=\"Contradictions\", ax=axes[1])\n"
   ]
  },
  {
   "cell_type": "code",
   "execution_count": null,
   "metadata": {},
   "outputs": [],
   "source": [
    "fig, axes = plt.subplots(1, 2, figsize=(12, 6))\n",
    "interp_df[\"dCont_dTime\"] = np.gradient(interp_df['Contradictions'], interp_df['Time'])\n",
    "sns.lineplot(interp_df, x=\"Time\", y=\"Contradictions\", ax=axes[0])\n",
    "sns.lineplot(interp_df, x=\"Time\", y=\"dCont_dTime\", ax=axes[1])\n",
    "\n"
   ]
  },
  {
   "cell_type": "code",
   "execution_count": null,
   "metadata": {},
   "outputs": [],
   "source": [
    "fig, axes = plt.subplots(1, 2, figsize=(12, 6))\n",
    "sns.lineplot(std_df, x=\"Time\", y=\"Size\", ax=axes[0])\n",
    "sns.lineplot(interp_df, x=\"Time\", y=\"Size\", ax=axes[1])\n"
   ]
  }
 ],
 "metadata": {
  "kernelspec": {
   "display_name": "Python 3",
   "language": "python",
   "name": "python3"
  },
  "language_info": {
   "codemirror_mode": {
    "name": "ipython",
    "version": 3
   },
   "file_extension": ".py",
   "mimetype": "text/x-python",
   "name": "python",
   "nbconvert_exporter": "python",
   "pygments_lexer": "ipython3",
   "version": "3.10.12"
  }
 },
 "nbformat": 4,
 "nbformat_minor": 2
}
